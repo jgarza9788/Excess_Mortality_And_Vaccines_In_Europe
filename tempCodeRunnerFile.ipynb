
display(codn[(codn.abbr == 'CY') & (codn.cod == 'Malignant neoplasms (C00-C97)')].head(1000))